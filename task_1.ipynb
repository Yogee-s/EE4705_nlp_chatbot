{
 "cells": [
  {
   "cell_type": "code",
   "execution_count": 20,
   "id": "e48775d9",
   "metadata": {},
   "outputs": [
    {
     "name": "stdout",
     "output_type": "stream",
     "text": [
      "Requirement already satisfied: kagglehub[pandas-datasets] in /home/yogee/miniconda3/envs/EE4705/lib/python3.9/site-packages (0.3.13)\n",
      "Requirement already satisfied: packaging in /home/yogee/miniconda3/envs/EE4705/lib/python3.9/site-packages (from kagglehub[pandas-datasets]) (25.0)\n",
      "Requirement already satisfied: pyyaml in /home/yogee/miniconda3/envs/EE4705/lib/python3.9/site-packages (from kagglehub[pandas-datasets]) (6.0.2)\n",
      "Requirement already satisfied: requests in /home/yogee/miniconda3/envs/EE4705/lib/python3.9/site-packages (from kagglehub[pandas-datasets]) (2.32.5)\n",
      "Requirement already satisfied: tqdm in /home/yogee/miniconda3/envs/EE4705/lib/python3.9/site-packages (from kagglehub[pandas-datasets]) (4.67.1)\n",
      "Requirement already satisfied: pandas in /home/yogee/miniconda3/envs/EE4705/lib/python3.9/site-packages (from kagglehub[pandas-datasets]) (2.3.2)\n",
      "Requirement already satisfied: numpy>=1.22.4 in /home/yogee/miniconda3/envs/EE4705/lib/python3.9/site-packages (from pandas->kagglehub[pandas-datasets]) (2.0.2)\n",
      "Requirement already satisfied: python-dateutil>=2.8.2 in /home/yogee/miniconda3/envs/EE4705/lib/python3.9/site-packages (from pandas->kagglehub[pandas-datasets]) (2.9.0.post0)\n",
      "Requirement already satisfied: pytz>=2020.1 in /home/yogee/miniconda3/envs/EE4705/lib/python3.9/site-packages (from pandas->kagglehub[pandas-datasets]) (2025.2)\n",
      "Requirement already satisfied: tzdata>=2022.7 in /home/yogee/miniconda3/envs/EE4705/lib/python3.9/site-packages (from pandas->kagglehub[pandas-datasets]) (2025.2)\n",
      "Requirement already satisfied: six>=1.5 in /home/yogee/miniconda3/envs/EE4705/lib/python3.9/site-packages (from python-dateutil>=2.8.2->pandas->kagglehub[pandas-datasets]) (1.17.0)\n",
      "Requirement already satisfied: charset_normalizer<4,>=2 in /home/yogee/miniconda3/envs/EE4705/lib/python3.9/site-packages (from requests->kagglehub[pandas-datasets]) (3.4.3)\n",
      "Requirement already satisfied: idna<4,>=2.5 in /home/yogee/miniconda3/envs/EE4705/lib/python3.9/site-packages (from requests->kagglehub[pandas-datasets]) (3.10)\n",
      "Requirement already satisfied: urllib3<3,>=1.21.1 in /home/yogee/miniconda3/envs/EE4705/lib/python3.9/site-packages (from requests->kagglehub[pandas-datasets]) (2.5.0)\n",
      "Requirement already satisfied: certifi>=2017.4.17 in /home/yogee/miniconda3/envs/EE4705/lib/python3.9/site-packages (from requests->kagglehub[pandas-datasets]) (2025.8.3)\n",
      "Note: you may need to restart the kernel to use updated packages.\n"
     ]
    }
   ],
   "source": [
    "%pip install kagglehub[pandas-datasets]"
   ]
  },
  {
   "cell_type": "code",
   "execution_count": 21,
   "id": "16e5783d",
   "metadata": {},
   "outputs": [
    {
     "name": "stdout",
     "output_type": "stream",
     "text": [
      "Downloaded to: /home/yogee/.cache/kagglehub/datasets/thedevastator/dailydialog-multi-turn-dialog-with-intention-and/versions/2\n",
      "Dataset moved to: data/dailydialog\n"
     ]
    }
   ],
   "source": [
    "import kagglehub, shutil, os\n",
    "\n",
    "# Download (goes into ~/.kagglehub by default)\n",
    "cache_path = kagglehub.dataset_download(\"thedevastator/dailydialog-multi-turn-dialog-with-intention-and\")\n",
    "print(\"Downloaded to:\", cache_path)\n",
    "\n",
    "# Move to ./data/dailydialog\n",
    "target_path = os.path.join(\"data\", \"dailydialog\")\n",
    "os.makedirs(\"data\", exist_ok=True)\n",
    "\n",
    "# If already exists, remove first to avoid errors\n",
    "if os.path.exists(target_path):\n",
    "    shutil.rmtree(target_path)\n",
    "\n",
    "shutil.move(cache_path, target_path)\n",
    "print(\"Dataset moved to:\", target_path)\n"
   ]
  },
  {
   "cell_type": "code",
   "execution_count": 30,
   "id": "960e7df6",
   "metadata": {},
   "outputs": [
    {
     "name": "stdout",
     "output_type": "stream",
     "text": [
      "Requirement already satisfied: tqdm in /home/yogee/miniconda3/envs/EE4705/lib/python3.9/site-packages (4.67.1)\n",
      "Note: you may need to restart the kernel to use updated packages.\n"
     ]
    }
   ],
   "source": [
    "%pip install tqdm"
   ]
  },
  {
   "cell_type": "code",
   "execution_count": 32,
   "id": "dfdb140a",
   "metadata": {},
   "outputs": [
    {
     "name": "stdout",
     "output_type": "stream",
     "text": [
      "2025-09-22 22:13:42.049438: I tensorflow/core/util/port.cc:153] oneDNN custom operations are on. You may see slightly different numerical results due to floating-point round-off errors from different computation orders. To turn them off, set the environment variable `TF_ENABLE_ONEDNN_OPTS=0`.\n",
      "2025-09-22 22:13:42.093779: I tensorflow/core/platform/cpu_feature_guard.cc:210] This TensorFlow binary is optimized to use available CPU instructions in performance-critical operations.\n",
      "To enable the following instructions: AVX2 AVX_VNNI FMA, in other operations, rebuild TensorFlow with the appropriate compiler flags.\n",
      "2025-09-22 22:13:43.101589: I tensorflow/core/util/port.cc:153] oneDNN custom operations are on. You may see slightly different numerical results due to floating-point round-off errors from different computation orders. To turn them off, set the environment variable `TF_ENABLE_ONEDNN_OPTS=0`.\n",
      "WARNING:tensorflow:From /home/yogee/miniconda3/envs/EE4705/lib/python3.9/site-packages/tensorflow/python/compat/v2_compat.py:98: disable_resource_variables (from tensorflow.python.ops.resource_variables_toggle) is deprecated and will be removed in a future version.\n",
      "Instructions for updating:\n",
      "non-resource variables are not supported in the long term\n",
      "Loading and preprocessing dataset...\n",
      "Vocab size: 17706 | Training samples: 1265113\n",
      "/home/yogee/miniconda3/envs/EE4705/lib/python3.9/site-packages/tensorflow/python/keras/layers/legacy_rnn/rnn_cell_impl.py:536: UserWarning: `tf.nn.rnn_cell.GRUCell` is deprecated and will be removed in a future version. This class is equivalent as `tf.keras.layers.GRUCell`, and will be replaced by that in Tensorflow 2.0.\n",
      "  warnings.warn(\"`tf.nn.rnn_cell.GRUCell` is deprecated and will be removed \"\n",
      "WARNING:tensorflow:From /home/yogee/Desktop/Project1_Chatbot for task1/model.py:191: dynamic_rnn (from tensorflow.python.ops.rnn) is deprecated and will be removed in a future version.\n",
      "Instructions for updating:\n",
      "Please use `keras.layers.RNN(cell)`, which is equivalent to this API\n",
      "/home/yogee/miniconda3/envs/EE4705/lib/python3.9/site-packages/tensorflow/python/keras/engine/base_layer_v1.py:1702: UserWarning: `layer.add_variable` is deprecated and will be removed in a future version. Please use `layer.add_weight` method instead.\n",
      "  warnings.warn('`layer.add_variable` is deprecated and '\n",
      "WARNING:tensorflow:From /home/yogee/miniconda3/envs/EE4705/lib/python3.9/site-packages/tensorflow/python/keras/layers/legacy_rnn/rnn_cell_impl.py:584: calling Constant.__init__ (from tensorflow.python.ops.init_ops) with dtype is deprecated and will be removed in a future version.\n",
      "Instructions for updating:\n",
      "Call initializer instance with the dtype argument instead of passing it to the constructor\n",
      "WARNING:tensorflow:From /home/yogee/miniconda3/envs/EE4705/lib/python3.9/site-packages/tensorflow/python/keras/layers/legacy_rnn/rnn_cell_impl.py:594: calling Zeros.__init__ (from tensorflow.python.ops.init_ops) with dtype is deprecated and will be removed in a future version.\n",
      "Instructions for updating:\n",
      "Call initializer instance with the dtype argument instead of passing it to the constructor\n",
      "WARNING: All log messages before absl::InitializeLog() is called are written to STDERR\n",
      "I0000 00:00:1758550429.343074   73083 gpu_device.cc:2020] Created device /job:localhost/replica:0/task:0/device:GPU:0 with 1577 MB memory:  -> device: 0, name: NVIDIA GeForce MX550, pci bus id: 0000:01:00.0, compute capability: 7.5\n",
      "I0000 00:00:1758550429.369503   73083 mlir_graph_optimization_pass.cc:437] MLIR V1 optimization pass is not enabled\n",
      "Training for 10 epochs, 9883 batches per epoch.\n",
      "Epoch 1/10: 100%|████████████████████████| 9883/9883 [35:35<00:00,  4.63batch/s]\n",
      "\n",
      "Epoch 1/10 completed | Avg Loss: 4.7140\n",
      "✅ Model saved to models/dailydialog/model.ckpt-1\n",
      "Epoch 2/10:   7%|█▊                       | 735/9883 [02:38<33:05,  4.61batch/s]^C\n",
      "Epoch 2/10:   7%|█▊                       | 736/9883 [02:39<33:01,  4.62batch/s]\n",
      "Traceback (most recent call last):\n",
      "  File \"/home/yogee/Desktop/Project1_Chatbot for task1/train.py\", line 144, in <module>\n",
      "    main()\n",
      "  File \"/home/yogee/Desktop/Project1_Chatbot for task1/train.py\", line 133, in main\n",
      "    train_loss, _ = sess.run([model.cost, model.train_op], feed_dict=feed)\n",
      "  File \"/home/yogee/miniconda3/envs/EE4705/lib/python3.9/site-packages/tensorflow/python/client/session.py\", line 977, in run\n",
      "    result = self._run(None, fetches, feed_dict, options_ptr,\n",
      "  File \"/home/yogee/miniconda3/envs/EE4705/lib/python3.9/site-packages/tensorflow/python/client/session.py\", line 1220, in _run\n",
      "    results = self._do_run(handle, final_targets, final_fetches,\n",
      "  File \"/home/yogee/miniconda3/envs/EE4705/lib/python3.9/site-packages/tensorflow/python/client/session.py\", line 1400, in _do_run\n",
      "    return self._do_call(_run_fn, feeds, fetches, targets, options,\n",
      "  File \"/home/yogee/miniconda3/envs/EE4705/lib/python3.9/site-packages/tensorflow/python/client/session.py\", line 1407, in _do_call\n",
      "    return fn(*args)\n",
      "  File \"/home/yogee/miniconda3/envs/EE4705/lib/python3.9/site-packages/tensorflow/python/client/session.py\", line 1390, in _run_fn\n",
      "    return self._call_tf_sessionrun(options, feed_dict, fetch_list,\n",
      "  File \"/home/yogee/miniconda3/envs/EE4705/lib/python3.9/site-packages/tensorflow/python/client/session.py\", line 1483, in _call_tf_sessionrun\n",
      "    return tf_session.TF_SessionRun_wrapper(self._session, options, feed_dict,\n",
      "KeyboardInterrupt\n"
     ]
    }
   ],
   "source": [
    "!python train.py --data_dir data/dailydialog --save_dir models/dailydialog \\\n",
    "                --model gru --num_layers 2 --num_blocks 2 --block_size 128 \\\n",
    "                --seq_length 20 --batch_size 128 --num_epochs 10"
   ]
  }
 ],
 "metadata": {
  "kernelspec": {
   "display_name": "EE4705",
   "language": "python",
   "name": "python3"
  },
  "language_info": {
   "codemirror_mode": {
    "name": "ipython",
    "version": 3
   },
   "file_extension": ".py",
   "mimetype": "text/x-python",
   "name": "python",
   "nbconvert_exporter": "python",
   "pygments_lexer": "ipython3",
   "version": "3.9.23"
  }
 },
 "nbformat": 4,
 "nbformat_minor": 5
}
