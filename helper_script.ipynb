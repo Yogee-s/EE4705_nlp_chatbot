{
 "cells": [
  {
   "cell_type": "markdown",
   "id": "b804cd04",
   "metadata": {},
   "source": [
    "# Train Model on conversation_augmented dataset"
   ]
  },
  {
   "cell_type": "code",
   "execution_count": null,
   "id": "d2343493",
   "metadata": {},
   "outputs": [],
   "source": [
    "!python train_chatbot.py --epochs 100 --batch_size 4 --learning_rate 0.001 --save_every 50"
   ]
  },
  {
   "cell_type": "markdown",
   "id": "1190518e",
   "metadata": {},
   "source": [
    "# Tensorboard Command to view graph"
   ]
  },
  {
   "cell_type": "code",
   "execution_count": null,
   "id": "18386349",
   "metadata": {},
   "outputs": [],
   "source": [
    "%cd trained_custom_model/\n",
    "!tensorboard --logdir logs/fit"
   ]
  },
  {
   "cell_type": "markdown",
   "id": "1843dae1",
   "metadata": {},
   "source": [
    "# Test Inference on custom model"
   ]
  },
  {
   "cell_type": "code",
   "execution_count": 9,
   "id": "bd64da70",
   "metadata": {},
   "outputs": [
    {
     "name": "stdout",
     "output_type": "stream",
     "text": [
      "[Errno 2] No such file or directory: 'trained_custom_model/'\n",
      "/home/yogee/Desktop/EE4705_nlp_chatbot/trained_custom_model\n",
      "chatbot.py  logs  train_model.py\n",
      "2025-09-28 16:21:02.972047: I tensorflow/core/util/port.cc:153] oneDNN custom operations are on. You may see slightly different numerical results due to floating-point round-off errors from different computation orders. To turn them off, set the environment variable `TF_ENABLE_ONEDNN_OPTS=0`.\n",
      "2025-09-28 16:21:03.008901: I tensorflow/core/platform/cpu_feature_guard.cc:210] This TensorFlow binary is optimized to use available CPU instructions in performance-critical operations.\n",
      "To enable the following instructions: AVX2 AVX_VNNI FMA, in other operations, rebuild TensorFlow with the appropriate compiler flags.\n",
      "2025-09-28 16:21:04.057218: I tensorflow/core/util/port.cc:153] oneDNN custom operations are on. You may see slightly different numerical results due to floating-point round-off errors from different computation orders. To turn them off, set the environment variable `TF_ENABLE_ONEDNN_OPTS=0`.\n",
      "WARNING: All log messages before absl::InitializeLog() is called are written to STDERR\n",
      "I0000 00:00:1759047665.794565   38618 gpu_device.cc:2020] Created device /job:localhost/replica:0/task:0/device:GPU:0 with 1577 MB memory:  -> device: 0, name: NVIDIA GeForce MX550, pci bus id: 0000:01:00.0, compute capability: 7.5\n",
      "WARNING:absl:Compiled the loaded model, but the compiled metrics have yet to be built. `model.compile_metrics` will be empty until you train or evaluate the model.\n",
      "Chatbot ready! Type 'quit' to stop.\n",
      "\n",
      "You: Traceback (most recent call last):\n",
      "  File \"/home/yogee/Desktop/EE4705_nlp_chatbot/trained_custom_model/chatbot.py\", line 98, in <module>\n",
      "    user_in = input(\"\\nYou: \")\n",
      "KeyboardInterrupt\n",
      "^C\n"
     ]
    }
   ],
   "source": [
    "%cd trained_custom_model/\n",
    "!ls\n",
    "!python chatbot.py --top_k 5 --temperature 0.8 --max_len 40"
   ]
  }
 ],
 "metadata": {
  "kernelspec": {
   "display_name": "EE4705",
   "language": "python",
   "name": "python3"
  },
  "language_info": {
   "codemirror_mode": {
    "name": "ipython",
    "version": 3
   },
   "file_extension": ".py",
   "mimetype": "text/x-python",
   "name": "python",
   "nbconvert_exporter": "python",
   "pygments_lexer": "ipython3",
   "version": "3.9.23"
  }
 },
 "nbformat": 4,
 "nbformat_minor": 5
}
